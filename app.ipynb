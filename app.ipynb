{
 "cells": [
  {
   "cell_type": "code",
   "execution_count": null,
   "id": "70fa61d8",
   "metadata": {},
   "outputs": [
    {
     "name": "stdout",
     "output_type": "stream",
     "text": [
      " * Serving Flask app '__main__'\n",
      " * Debug mode: on\n"
     ]
    },
    {
     "name": "stderr",
     "output_type": "stream",
     "text": [
      "WARNING: This is a development server. Do not use it in a production deployment. Use a production WSGI server instead.\n",
      " * Running on http://127.0.0.1:5000\n",
      "Press CTRL+C to quit\n",
      "127.0.0.1 - - [19/Aug/2024 01:49:36] \"GET / HTTP/1.1\" 200 -\n"
     ]
    }
   ],
   "source": [
    "from flask import Flask, request, render_template\n",
    "from sqlalchemy import create_engine, text\n",
    "import pandas as pd  # 确保导入 pandas\n",
    "\n",
    "# 创建 Flask 应用\n",
    "app = Flask(__name__)\n",
    "\n",
    "# 创建数据库连接\n",
    "engine = create_engine('sqlite:///poetry.db')\n",
    "\n",
    "@app.route('/')\n",
    "def index():\n",
    "    # 从数据库中查询部分数据\n",
    "    with engine.connect() as connection:\n",
    "        result = connection.execute(text(\"SELECT * FROM poems LIMIT 20\"))\n",
    "        data = result.fetchall()\n",
    "        columns = result.keys()\n",
    "\n",
    "    # 将数据转为HTML表格\n",
    "    table_html = pd.DataFrame(data, columns=columns).to_html(classes='table table-striped', index=False)\n",
    "    \n",
    "    return render_template('index.html', table=table_html, columns=columns)\n",
    "\n",
    "@app.route('/query', methods=['POST'])\n",
    "def query_data():\n",
    "    # 获取用户的查询\n",
    "    query_column = request.form.get('column')\n",
    "    query_value = request.form.get('value')\n",
    "    \n",
    "    # 从数据库中执行查询\n",
    "    query = text(f\"SELECT * FROM poems WHERE {query_column} LIKE :value LIMIT 20\")\n",
    "    with engine.connect() as connection:\n",
    "        result = connection.execute(query, {\"value\": f\"%{query_value}%\"})\n",
    "        data = result.fetchall()\n",
    "        columns = result.keys()\n",
    "    \n",
    "    # 将数据转为HTML表格\n",
    "    table_html = pd.DataFrame(data, columns=columns).to_html(classes='table table-striped', index=False)\n",
    "    \n",
    "    return render_template('query.html', table=table_html, columns=columns)\n",
    "\n",
    "# 启动 Flask 应用\n",
    "if __name__ == '__main__':\n",
    "    app.run(debug=True, use_reloader=False)\n"
   ]
  },
  {
   "cell_type": "code",
   "execution_count": null,
   "id": "4f116770",
   "metadata": {},
   "outputs": [],
   "source": []
  }
 ],
 "metadata": {
  "kernelspec": {
   "display_name": "Python (tree)",
   "language": "python",
   "name": "tree"
  },
  "language_info": {
   "codemirror_mode": {
    "name": "ipython",
    "version": 3
   },
   "file_extension": ".py",
   "mimetype": "text/x-python",
   "name": "python",
   "nbconvert_exporter": "python",
   "pygments_lexer": "ipython3",
   "version": "3.11.7"
  }
 },
 "nbformat": 4,
 "nbformat_minor": 5
}
